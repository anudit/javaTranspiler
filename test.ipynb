{
 "cells": [
  {
   "cell_type": "code",
   "execution_count": 5,
   "metadata": {},
   "outputs": [
    {
     "name": "stdout",
     "output_type": "stream",
     "text": [
      "Bennett university\n",
      "CSE\n"
     ]
    }
   ],
   "source": [
    "/*Question1*/\n",
    "System.out.println(\"Bennett university\");\n",
    "System.out.println(\"CSE\");"
   ]
  },
  {
   "cell_type": "code",
   "execution_count": 6,
   "metadata": {},
   "outputs": [
    {
     "name": "stdout",
     "output_type": "stream",
     "text": [
      "50\n"
     ]
    }
   ],
   "source": [
    "/*Question 2*/\n",
    "System.out.println(24 + 26);"
   ]
  },
  {
   "cell_type": "code",
   "execution_count": 14,
   "metadata": {},
   "outputs": [
    {
     "name": "stdout",
     "output_type": "stream",
     "text": [
      "20\n"
     ]
    }
   ],
   "source": [
    "/*Question 3*/\n",
    "System.out.println(60 / 3);"
   ]
  },
  {
   "cell_type": "code",
   "execution_count": 13,
   "metadata": {},
   "outputs": [
    {
     "name": "stdout",
     "output_type": "stream",
     "text": [
      "43\n",
      "1\n",
      "19\n",
      "13\n"
     ]
    }
   ],
   "source": [
    "/*Question 4*/\n",
    "System.out.println(-5 + 8 * 6);\n",
    "System.out.println((55 + 9) % 9);\n",
    "System.out.println(20 + -3 * 5 / 8);\n",
    "System.out.println(5 + 15 / 3 * 2 - 8 % 3);"
   ]
  },
  {
   "cell_type": "code",
   "execution_count": 12,
   "metadata": {},
   "outputs": [
    {
     "name": "stdout",
     "output_type": "stream",
     "text": [
      "15\n"
     ]
    }
   ],
   "source": [
    "/*Question 5*/\n",
    "int a = input.nextInt();\n",
    "int b = input.nextInt();\n",
    "System.out.println(a + b);"
   ]
  },
  {
   "cell_type": "code",
   "execution_count": null,
   "metadata": {},
   "outputs": [],
   "source": [
    "/*Question 6*/\n",
    "int c = input.nextInt();\n",
    "int i = 0;\n",
    "for (i = 1; i <= 10; i++) {\n",
    " System.out.println(c + \"*\" + i + \" = \" + c * i);\n",
    "};"
   ]
  },
  {
   "cell_type": "code",
   "execution_count": 11,
   "metadata": {},
   "outputs": [
    {
     "name": "stdout",
     "output_type": "stream",
     "text": [
      "Sum15\n",
      "Diff5\n",
      "Prod5\n",
      "Divide2\n"
     ]
    }
   ],
   "source": [
    "/*Question 7*/\n",
    "int q7_1 = 10;\n",
    "int q7_2 = 5;\n",
    "System.out.println(\"Sum\" + (q7_1 + q7_2));\n",
    "System.out.println(\"Diff\" + (q7_1 - q7_2));\n",
    "System.out.println(\"Prod\" + (q7_1 - q7_2));\n",
    "System.out.println(\"Divide\" + (q7_1 / q7_2));"
   ]
  },
  {
   "cell_type": "code",
   "execution_count": 10,
   "metadata": {},
   "outputs": [
    {
     "name": "stdout",
     "output_type": "stream",
     "text": [
      "2.138888888888889\n"
     ]
    }
   ],
   "source": [
    "/*Question 8*/\n",
    "System.out.println(((25.5 * 3.5 - 3.5 * 3.5) / (40.5 - 4.5)));"
   ]
  },
  {
   "cell_type": "code",
   "execution_count": 9,
   "metadata": {},
   "outputs": [
    {
     "name": "stdout",
     "output_type": "stream",
     "text": [
      "176.71458676442586\n",
      "47.12388980384689\n"
     ]
    }
   ],
   "source": [
    "/*Question 9*/\n",
    "double r = 7.5;\n",
    "System.out.println(Math.PI * Math.pow(r, 2));\n",
    "System.out.println(2 * Math.PI * r);"
   ]
  },
  {
   "cell_type": "code",
   "execution_count": 8,
   "metadata": {},
   "outputs": [
    {
     "name": "stdout",
     "output_type": "stream",
     "text": [
      "Mean:6\n"
     ]
    }
   ],
   "source": [
    "/*Question 10*/\n",
    "int q10_1 = 10;\n",
    "int q10_2 = 5;\n",
    "int q10_3 = 3;\n",
    "System.out.println(\"Mean:\" + ((q10_1 + q10_2 + q10_3) / 3));"
   ]
  },
  {
   "cell_type": "code",
   "execution_count": 7,
   "metadata": {},
   "outputs": [
    {
     "name": "stdout",
     "output_type": "stream",
     "text": [
      "6,18\n"
     ]
    }
   ],
   "source": [
    "/*Question 11*/\n",
    "int x=5,y;\n",
    "y= ++x + x++ + --x;\n",
    "System.out.println(x + \",\"+ y);"
   ]
  }
 ],
 "metadata": {
  "kernelspec": {
   "display_name": "Java AN.12",
   "language": "java",
   "name": "java"
  },
  "language_info": {
   "codemirror_mode": "java",
   "file_extension": ".java",
   "mimetype": "text/x-java-source",
   "name": "Java",
   "pygments_lexer": "java",
   "version": "10.0.1+10-Debian-4"
  }
 },
 "nbformat": 4,
 "nbformat_minor": 2
}
